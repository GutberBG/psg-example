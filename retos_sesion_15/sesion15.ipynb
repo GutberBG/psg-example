{
 "cells": [
  {
   "cell_type": "code",
   "execution_count": 1,
   "id": "2a59d76f",
   "metadata": {},
   "outputs": [
    {
     "name": "stdout",
     "output_type": "stream",
     "text": [
      "Inicio Ejemplo 1\n",
      "💀 Error: division by zero <class 'ZeroDivisionError'>\n",
      "Fin Ejemplo 1\n"
     ]
    }
   ],
   "source": [
    "print (\"Inicio Ejemplo 1\")\n",
    "try:\n",
    "    x = 1 / 0\n",
    "    print (x)\n",
    "except Exception as e:\n",
    "    print(\"💀 Error:\", e, type(e))\n",
    "print (\"Fin Ejemplo 1\")"
   ]
  },
  {
   "cell_type": "code",
   "execution_count": 2,
   "id": "6ede21b8",
   "metadata": {},
   "outputs": [
    {
     "name": "stdout",
     "output_type": "stream",
     "text": [
      "Resultado: 1.0\n",
      "Resultado: 0.5\n",
      "💀 Error: could not convert string to float: ''\n",
      "💀 Error: float division by zero\n",
      "💀 Error: could not convert string to float: ''\n",
      "💀 Error: float division by zero\n",
      "💀 Error: float division by zero\n"
     ]
    },
    {
     "ename": "KeyboardInterrupt",
     "evalue": "Interrupted by user",
     "output_type": "error",
     "traceback": [
      "\u001b[31m---------------------------------------------------------------------------\u001b[39m",
      "\u001b[31mKeyboardInterrupt\u001b[39m                         Traceback (most recent call last)",
      "\u001b[36mCell\u001b[39m\u001b[36m \u001b[39m\u001b[32mIn[2]\u001b[39m\u001b[32m, line 3\u001b[39m\n\u001b[32m      1\u001b[39m \u001b[38;5;28;01mwhile\u001b[39;00m \u001b[38;5;28;01mTrue\u001b[39;00m:\n\u001b[32m      2\u001b[39m     \u001b[38;5;28;01mtry\u001b[39;00m:\n\u001b[32m----> \u001b[39m\u001b[32m3\u001b[39m         num1 = \u001b[38;5;28;43minput\u001b[39;49m\u001b[43m(\u001b[49m\u001b[33;43m\"\u001b[39;49m\u001b[33;43mIngrese el primer número: \u001b[39;49m\u001b[33;43m\"\u001b[39;49m\u001b[43m)\u001b[49m\n\u001b[32m      4\u001b[39m         \u001b[38;5;28;01mif\u001b[39;00m num1 == \u001b[33m\"\u001b[39m\u001b[33msalir\u001b[39m\u001b[33m\"\u001b[39m:\n\u001b[32m      5\u001b[39m             \u001b[38;5;28;01mbreak\u001b[39;00m\n",
      "\u001b[36mFile \u001b[39m\u001b[32m~\\AppData\\Roaming\\Python\\Python313\\site-packages\\ipykernel\\kernelbase.py:1282\u001b[39m, in \u001b[36mKernel.raw_input\u001b[39m\u001b[34m(self, prompt)\u001b[39m\n\u001b[32m   1280\u001b[39m     msg = \u001b[33m\"\u001b[39m\u001b[33mraw_input was called, but this frontend does not support input requests.\u001b[39m\u001b[33m\"\u001b[39m\n\u001b[32m   1281\u001b[39m     \u001b[38;5;28;01mraise\u001b[39;00m StdinNotImplementedError(msg)\n\u001b[32m-> \u001b[39m\u001b[32m1282\u001b[39m \u001b[38;5;28;01mreturn\u001b[39;00m \u001b[38;5;28;43mself\u001b[39;49m\u001b[43m.\u001b[49m\u001b[43m_input_request\u001b[49m\u001b[43m(\u001b[49m\n\u001b[32m   1283\u001b[39m \u001b[43m    \u001b[49m\u001b[38;5;28;43mstr\u001b[39;49m\u001b[43m(\u001b[49m\u001b[43mprompt\u001b[49m\u001b[43m)\u001b[49m\u001b[43m,\u001b[49m\n\u001b[32m   1284\u001b[39m \u001b[43m    \u001b[49m\u001b[38;5;28;43mself\u001b[39;49m\u001b[43m.\u001b[49m\u001b[43m_parent_ident\u001b[49m\u001b[43m[\u001b[49m\u001b[33;43m\"\u001b[39;49m\u001b[33;43mshell\u001b[39;49m\u001b[33;43m\"\u001b[39;49m\u001b[43m]\u001b[49m\u001b[43m,\u001b[49m\n\u001b[32m   1285\u001b[39m \u001b[43m    \u001b[49m\u001b[38;5;28;43mself\u001b[39;49m\u001b[43m.\u001b[49m\u001b[43mget_parent\u001b[49m\u001b[43m(\u001b[49m\u001b[33;43m\"\u001b[39;49m\u001b[33;43mshell\u001b[39;49m\u001b[33;43m\"\u001b[39;49m\u001b[43m)\u001b[49m\u001b[43m,\u001b[49m\n\u001b[32m   1286\u001b[39m \u001b[43m    \u001b[49m\u001b[43mpassword\u001b[49m\u001b[43m=\u001b[49m\u001b[38;5;28;43;01mFalse\u001b[39;49;00m\u001b[43m,\u001b[49m\n\u001b[32m   1287\u001b[39m \u001b[43m\u001b[49m\u001b[43m)\u001b[49m\n",
      "\u001b[36mFile \u001b[39m\u001b[32m~\\AppData\\Roaming\\Python\\Python313\\site-packages\\ipykernel\\kernelbase.py:1325\u001b[39m, in \u001b[36mKernel._input_request\u001b[39m\u001b[34m(self, prompt, ident, parent, password)\u001b[39m\n\u001b[32m   1322\u001b[39m \u001b[38;5;28;01mexcept\u001b[39;00m \u001b[38;5;167;01mKeyboardInterrupt\u001b[39;00m:\n\u001b[32m   1323\u001b[39m     \u001b[38;5;66;03m# re-raise KeyboardInterrupt, to truncate traceback\u001b[39;00m\n\u001b[32m   1324\u001b[39m     msg = \u001b[33m\"\u001b[39m\u001b[33mInterrupted by user\u001b[39m\u001b[33m\"\u001b[39m\n\u001b[32m-> \u001b[39m\u001b[32m1325\u001b[39m     \u001b[38;5;28;01mraise\u001b[39;00m \u001b[38;5;167;01mKeyboardInterrupt\u001b[39;00m(msg) \u001b[38;5;28;01mfrom\u001b[39;00m\u001b[38;5;250m \u001b[39m\u001b[38;5;28;01mNone\u001b[39;00m\n\u001b[32m   1326\u001b[39m \u001b[38;5;28;01mexcept\u001b[39;00m \u001b[38;5;167;01mException\u001b[39;00m:\n\u001b[32m   1327\u001b[39m     \u001b[38;5;28mself\u001b[39m.log.warning(\u001b[33m\"\u001b[39m\u001b[33mInvalid Message:\u001b[39m\u001b[33m\"\u001b[39m, exc_info=\u001b[38;5;28;01mTrue\u001b[39;00m)\n",
      "\u001b[31mKeyboardInterrupt\u001b[39m: Interrupted by user"
     ]
    }
   ],
   "source": [
    "while True:\n",
    "    try:\n",
    "        num1 = input(\"Ingrese el primer número: \")\n",
    "        if num1 == \"salir\":\n",
    "            break\n",
    "        num2 = input(\"Ingrese el segundo número: \")\n",
    "        if num2 == \"salir\":\n",
    "            break\n",
    "        num1 = float(num1)\n",
    "        num2 = float(num2)\n",
    "        print(\"Resultado:\", num1 / num2)\n",
    "    except Exception as e:\n",
    "        print(\"💀 Error:\", e)"
   ]
  },
  {
   "cell_type": "code",
   "execution_count": 3,
   "id": "322f8db4",
   "metadata": {},
   "outputs": [
    {
     "name": "stdout",
     "output_type": "stream",
     "text": [
      "Inicio Ejemplo 2\n",
      "0️⃣ Error: division by zero <class 'ZeroDivisionError'>\n",
      "Fin Ejemplo 2\n"
     ]
    }
   ],
   "source": [
    "print (\"Inicio Ejemplo 2\")\n",
    "divisor = 0\n",
    "try:\n",
    "    x = 1 / divisor\n",
    "    print (x)\n",
    "except ZeroDivisionError as e:\n",
    "    print(\"0️⃣ Error:\", e, type(e))\n",
    "except Exception as e:\n",
    "    print(\"💀 Error:\", e, type(e))\n",
    "print (\"Fin Ejemplo 2\")"
   ]
  },
  {
   "cell_type": "code",
   "execution_count": 4,
   "id": "355778a1",
   "metadata": {},
   "outputs": [
    {
     "name": "stdout",
     "output_type": "stream",
     "text": [
      "Inicio Ejemplo 2\n",
      "💀 Error: unsupported operand type(s) for /: 'int' and 'str' <class 'TypeError'>\n",
      "Fin Ejemplo 2\n"
     ]
    }
   ],
   "source": [
    "print (\"Inicio Ejemplo 2\")\n",
    "divisor = \"0\"\n",
    "try:\n",
    "    x = 1 / divisor\n",
    "    print (x)\n",
    "except ZeroDivisionError as e:\n",
    "    print(\"0️⃣ Error:\", e, type(e))\n",
    "except Exception as e:\n",
    "    print(\"💀 Error:\", e, type(e))\n",
    "print (\"Fin Ejemplo 2\")"
   ]
  },
  {
   "cell_type": "code",
   "execution_count": 5,
   "id": "2ca910c6",
   "metadata": {},
   "outputs": [
    {
     "name": "stdout",
     "output_type": "stream",
     "text": [
      "Inicio Ejemplo 2\n",
      "💀 Error: division by zero <class 'ZeroDivisionError'>\n",
      "Fin Ejemplo 2\n"
     ]
    }
   ],
   "source": [
    "print (\"Inicio Ejemplo 2\")\n",
    "divisor = 0\n",
    "try:\n",
    "    x = 1 / divisor\n",
    "    print (x)\n",
    "except Exception as e: # Captura cualquier excepción\n",
    "    print(\"💀 Error:\", e, type(e))\n",
    "except ZeroDivisionError as e:\n",
    "    print(\"0️⃣ Error:\", e, type(e))\n",
    "print (\"Fin Ejemplo 2\")"
   ]
  },
  {
   "cell_type": "code",
   "execution_count": 6,
   "id": "1f00a8e5",
   "metadata": {},
   "outputs": [
    {
     "name": "stdout",
     "output_type": "stream",
     "text": [
      "🎭 Error: unsupported operand type(s) for +=: 'int' and 'str' <class 'TypeError'>\n"
     ]
    }
   ],
   "source": [
    "calificaciones = [20,40,80,\"A\"]\n",
    "suma = 0\n",
    "try:\n",
    "    for i in range(len(calificaciones)+1):\n",
    "        suma += calificaciones[i] \n",
    "    promedio = suma / len(calificaciones)\n",
    "    print(\"Promedio:\", promedio)\n",
    "except ZeroDivisionError as e:\n",
    "    print(\"0️⃣ Error:\", e, type(e))\n",
    "except TypeError as e:\n",
    "    print(\"🎭 Error:\", e, type(e))\n",
    "except Exception as e:\n",
    "    print(\"💀 Error:\", e, type(e))"
   ]
  },
  {
   "cell_type": "code",
   "execution_count": 7,
   "id": "55aa7fa0",
   "metadata": {},
   "outputs": [
    {
     "name": "stdout",
     "output_type": "stream",
     "text": [
      "💀 Error: list index out of range <class 'IndexError'>\n"
     ]
    }
   ],
   "source": [
    "calificaciones = [20,40,80]\n",
    "suma = 0\n",
    "try:\n",
    "    for i in range(len(calificaciones)+1):\n",
    "        suma += calificaciones[i]\n",
    "    promedio = suma / len(calificaciones)\n",
    "    print(\"Promedio:\", promedio)\n",
    "except ZeroDivisionError as e:\n",
    "    print(\"0️⃣ Error:\", e, type(e))\n",
    "except TypeError as e:\n",
    "    print(\"🎭 Error:\", e, type(e))\n",
    "except Exception as e: # Captura cualquier excepción\n",
    "    print(\"💀 Error:\", e, type(e))"
   ]
  },
  {
   "cell_type": "code",
   "execution_count": 8,
   "id": "23f9d723",
   "metadata": {},
   "outputs": [
    {
     "name": "stdout",
     "output_type": "stream",
     "text": [
      "Promedio: 46.666666666666664\n"
     ]
    }
   ],
   "source": [
    "calificaciones = [20,40,80]\n",
    "suma = 0\n",
    "try:\n",
    "    for i in range(len(calificaciones)):\n",
    "        suma += calificaciones[i] # suma = suma + calificaciones[i]\n",
    "    promedio = suma / len(calificaciones)\n",
    "    print(\"Promedio:\", promedio)\n",
    "except ZeroDivisionError as e:\n",
    "    print(\"0️⃣ Error:\", e, type(e))\n",
    "except TypeError as e:\n",
    "    print(\"🎭 Error:\", e, type(e))\n",
    "except Exception as e:\n",
    "    print(\"💀 Error:\", e, type(e))"
   ]
  },
  {
   "cell_type": "code",
   "execution_count": 9,
   "id": "96b9d904",
   "metadata": {},
   "outputs": [
    {
     "name": "stdout",
     "output_type": "stream",
     "text": [
      "Inicio Ejemplo 4\n",
      "Promedio: 46.666666666666664\n",
      "🎉 Sin errores\n",
      "Fin Ejemplo 4\n"
     ]
    }
   ],
   "source": [
    "print (\"Inicio Ejemplo 4\")\n",
    "calificaciones = [20,40,80]\n",
    "suma = 0\n",
    "try:\n",
    "    for i in range(len(calificaciones)):\n",
    "        suma += calificaciones[i]\n",
    "    promedio = suma / len(calificaciones)\n",
    "    print(\"Promedio:\", promedio)\n",
    "except Exception as e:\n",
    "    print(\"💀 Error:\", e, type(e))\n",
    "else:\n",
    "    print (\"🎉 Sin errores\")\n",
    "print (\"Fin Ejemplo 4\")"
   ]
  },
  {
   "cell_type": "code",
   "execution_count": 11,
   "id": "82fb3edd",
   "metadata": {},
   "outputs": [
    {
     "name": "stdout",
     "output_type": "stream",
     "text": [
      "💀 Error: float division by zero\n"
     ]
    },
    {
     "ename": "KeyboardInterrupt",
     "evalue": "Interrupted by user",
     "output_type": "error",
     "traceback": [
      "\u001b[31m---------------------------------------------------------------------------\u001b[39m",
      "\u001b[31mKeyboardInterrupt\u001b[39m                         Traceback (most recent call last)",
      "\u001b[36mCell\u001b[39m\u001b[36m \u001b[39m\u001b[32mIn[11]\u001b[39m\u001b[32m, line 6\u001b[39m\n\u001b[32m      4\u001b[39m \u001b[38;5;28;01mwhile\u001b[39;00m \u001b[38;5;28;01mTrue\u001b[39;00m:\n\u001b[32m      5\u001b[39m     \u001b[38;5;28;01mtry\u001b[39;00m:\n\u001b[32m----> \u001b[39m\u001b[32m6\u001b[39m         num1 = \u001b[38;5;28;43minput\u001b[39;49m\u001b[43m(\u001b[49m\u001b[33;43m\"\u001b[39;49m\u001b[33;43mIngrese el primer número: \u001b[39;49m\u001b[33;43m\"\u001b[39;49m\u001b[43m)\u001b[49m\n\u001b[32m      7\u001b[39m         \u001b[38;5;28;01mif\u001b[39;00m num1 == \u001b[33m\"\u001b[39m\u001b[33msalir\u001b[39m\u001b[33m\"\u001b[39m:\n\u001b[32m      8\u001b[39m             \u001b[38;5;28;01mbreak\u001b[39;00m\n",
      "\u001b[36mFile \u001b[39m\u001b[32m~\\AppData\\Roaming\\Python\\Python313\\site-packages\\ipykernel\\kernelbase.py:1282\u001b[39m, in \u001b[36mKernel.raw_input\u001b[39m\u001b[34m(self, prompt)\u001b[39m\n\u001b[32m   1280\u001b[39m     msg = \u001b[33m\"\u001b[39m\u001b[33mraw_input was called, but this frontend does not support input requests.\u001b[39m\u001b[33m\"\u001b[39m\n\u001b[32m   1281\u001b[39m     \u001b[38;5;28;01mraise\u001b[39;00m StdinNotImplementedError(msg)\n\u001b[32m-> \u001b[39m\u001b[32m1282\u001b[39m \u001b[38;5;28;01mreturn\u001b[39;00m \u001b[38;5;28;43mself\u001b[39;49m\u001b[43m.\u001b[49m\u001b[43m_input_request\u001b[49m\u001b[43m(\u001b[49m\n\u001b[32m   1283\u001b[39m \u001b[43m    \u001b[49m\u001b[38;5;28;43mstr\u001b[39;49m\u001b[43m(\u001b[49m\u001b[43mprompt\u001b[49m\u001b[43m)\u001b[49m\u001b[43m,\u001b[49m\n\u001b[32m   1284\u001b[39m \u001b[43m    \u001b[49m\u001b[38;5;28;43mself\u001b[39;49m\u001b[43m.\u001b[49m\u001b[43m_parent_ident\u001b[49m\u001b[43m[\u001b[49m\u001b[33;43m\"\u001b[39;49m\u001b[33;43mshell\u001b[39;49m\u001b[33;43m\"\u001b[39;49m\u001b[43m]\u001b[49m\u001b[43m,\u001b[49m\n\u001b[32m   1285\u001b[39m \u001b[43m    \u001b[49m\u001b[38;5;28;43mself\u001b[39;49m\u001b[43m.\u001b[49m\u001b[43mget_parent\u001b[49m\u001b[43m(\u001b[49m\u001b[33;43m\"\u001b[39;49m\u001b[33;43mshell\u001b[39;49m\u001b[33;43m\"\u001b[39;49m\u001b[43m)\u001b[49m\u001b[43m,\u001b[49m\n\u001b[32m   1286\u001b[39m \u001b[43m    \u001b[49m\u001b[43mpassword\u001b[49m\u001b[43m=\u001b[49m\u001b[38;5;28;43;01mFalse\u001b[39;49;00m\u001b[43m,\u001b[49m\n\u001b[32m   1287\u001b[39m \u001b[43m\u001b[49m\u001b[43m)\u001b[49m\n",
      "\u001b[36mFile \u001b[39m\u001b[32m~\\AppData\\Roaming\\Python\\Python313\\site-packages\\ipykernel\\kernelbase.py:1325\u001b[39m, in \u001b[36mKernel._input_request\u001b[39m\u001b[34m(self, prompt, ident, parent, password)\u001b[39m\n\u001b[32m   1322\u001b[39m \u001b[38;5;28;01mexcept\u001b[39;00m \u001b[38;5;167;01mKeyboardInterrupt\u001b[39;00m:\n\u001b[32m   1323\u001b[39m     \u001b[38;5;66;03m# re-raise KeyboardInterrupt, to truncate traceback\u001b[39;00m\n\u001b[32m   1324\u001b[39m     msg = \u001b[33m\"\u001b[39m\u001b[33mInterrupted by user\u001b[39m\u001b[33m\"\u001b[39m\n\u001b[32m-> \u001b[39m\u001b[32m1325\u001b[39m     \u001b[38;5;28;01mraise\u001b[39;00m \u001b[38;5;167;01mKeyboardInterrupt\u001b[39;00m(msg) \u001b[38;5;28;01mfrom\u001b[39;00m\u001b[38;5;250m \u001b[39m\u001b[38;5;28;01mNone\u001b[39;00m\n\u001b[32m   1326\u001b[39m \u001b[38;5;28;01mexcept\u001b[39;00m \u001b[38;5;167;01mException\u001b[39;00m:\n\u001b[32m   1327\u001b[39m     \u001b[38;5;28mself\u001b[39m.log.warning(\u001b[33m\"\u001b[39m\u001b[33mInvalid Message:\u001b[39m\u001b[33m\"\u001b[39m, exc_info=\u001b[38;5;28;01mTrue\u001b[39;00m)\n",
      "\u001b[31mKeyboardInterrupt\u001b[39m: Interrupted by user"
     ]
    }
   ],
   "source": [
    "def division(num1, num2):\n",
    "    return num1 / num2\n",
    "\n",
    "while True:\n",
    "    try:\n",
    "        num1 = input(\"Ingrese el primer número: \")\n",
    "        if num1 == \"salir\":\n",
    "            break\n",
    "        num2 = input(\"Ingrese el segundo número: \")\n",
    "        if num2 == \"salir\":\n",
    "            break\n",
    "        num1 = float(num1)\n",
    "        num2 = float(num2)\n",
    "        resultado = division(num1, num2)\n",
    "    except Exception as e:\n",
    "        print(\"💀 Error:\", e)\n",
    "    else:\n",
    "        print(\"🎉 Resultado: \",resultado)"
   ]
  },
  {
   "cell_type": "code",
   "execution_count": 12,
   "id": "1afae599",
   "metadata": {},
   "outputs": [
    {
     "name": "stdout",
     "output_type": "stream",
     "text": [
      "Inicio Ejemplo 5\n",
      "🔗 Ping...\n",
      "🎉 Ping Exitoso\n",
      "🔌 Cerrando conexión\n"
     ]
    }
   ],
   "source": [
    "print (\"Inicio Ejemplo 5\")\n",
    "try:\n",
    "    print(\"🔗 Ping...\")\n",
    "except Exception as e:\n",
    "    print(\"💀 Error:\", e)\n",
    "else:\n",
    "    print(\"🎉 Ping Exitoso\")\n",
    "finally:\n",
    "    print(\"🔌 Cerrando conexión\")"
   ]
  },
  {
   "cell_type": "code",
   "execution_count": 13,
   "id": "4177882e",
   "metadata": {},
   "outputs": [
    {
     "name": "stdout",
     "output_type": "stream",
     "text": [
      "Inicio Ejemplo 6\n",
      "🔗 Ping...\n",
      "💀 Error: Error de conexión\n",
      "🔌 Cerrando conexión\n"
     ]
    }
   ],
   "source": [
    "print (\"Inicio Ejemplo 6\")\n",
    "try:\n",
    "    print(\"🔗 Ping...\")\n",
    "    raise Exception(\"Error de conexión\") #Excepción genérica\n",
    "except Exception as e: # Captura cualquier excepción\n",
    "    print(\"💀 Error:\", e)\n",
    "else:\n",
    "    print(\"🎉 Ping Exitoso\")\n",
    "finally:\n",
    "    print(\"🔌 Cerrando conexión\")"
   ]
  },
  {
   "cell_type": "code",
   "execution_count": null,
   "id": "9869d2c7",
   "metadata": {},
   "outputs": [
    {
     "name": "stdout",
     "output_type": "stream",
     "text": [
      "🎉 Número agregado\n",
      "Suma: 2.0\n",
      "🎉 Número agregado\n",
      "Suma: 3.0\n",
      "🎉 Número agregado\n",
      "Suma: 5.0\n",
      "💀 Error: No se puede agregar el número 0\n",
      "Suma: 5.0\n",
      "🚫 Para salir escriba \"salir\"\n",
      "Suma: 5.0\n",
      "💀 Error: could not convert string to float: ''\n",
      "Suma: 5.0\n",
      "💀 Error: could not convert string to float: ''\n",
      "Suma: 5.0\n",
      "💀 Error: could not convert string to float: ''\n",
      "Suma: 5.0\n"
     ]
    }
   ],
   "source": [
    "numeros = []\n",
    "while True:\n",
    "    try:\n",
    "        num = input(\"Ingrese un número: \")\n",
    "        if num == \"salir\":\n",
    "            break\n",
    "        num = float(num)\n",
    "        if num == 0:\n",
    "            raise Exception(\"No se puede agregar el número 0\")\n",
    "        numeros.append(num)\n",
    "    except KeyboardInterrupt as e:\n",
    "        print('🚫 Para salir escriba \"salir\"')\n",
    "    except Exception as e:\n",
    "        print(\"💀 Error:\", e)\n",
    "    else:\n",
    "        print(\"🎉 Número agregado\")\n",
    "    finally:\n",
    "        print(\"Suma:\", sum(numeros))"
   ]
  },
  {
   "cell_type": "code",
   "execution_count": 1,
   "id": "69ab6576",
   "metadata": {},
   "outputs": [
    {
     "name": "stdout",
     "output_type": "stream",
     "text": [
      "Inicio Ejemplo 7\n",
      "Fin Ejemplo 7\n"
     ]
    }
   ],
   "source": [
    "print(\"Inicio Ejemplo 7\")\n",
    "def funcion():\n",
    "    pass\n",
    "\n",
    "funcion()\n",
    "print(\"Fin Ejemplo 7\")"
   ]
  },
  {
   "cell_type": "code",
   "execution_count": 2,
   "id": "fa98b572",
   "metadata": {},
   "outputs": [
    {
     "name": "stdout",
     "output_type": "stream",
     "text": [
      "Inicio Ejemplo 8\n",
      "🍎\n",
      "🍌\n",
      "🍐\n",
      "🐛 Error: 😱 Ewww!\n",
      "🍇\n",
      "Fin Ejemplo 8\n"
     ]
    }
   ],
   "source": [
    "print(\"Inicio Ejemplo 8\")\n",
    "class GusanoError(Exception):\n",
    "    pass\n",
    "\n",
    "frutero = ['🍎', '🍌', '🍐', '🐛', '🍇']\n",
    "for fruta in frutero:\n",
    "    try:\n",
    "        if fruta == '🐛':\n",
    "            raise GusanoError(\"😱 Ewww!\")\n",
    "        print(fruta)\n",
    "    except GusanoError as e:\n",
    "        print(\"🐛 Error:\", e)\n",
    "    except Exception as e:\n",
    "        print(\"💀 Error:\", e)\n",
    "print(\"Fin Ejemplo 8\")"
   ]
  },
  {
   "cell_type": "code",
   "execution_count": 3,
   "id": "ebaf52d1",
   "metadata": {},
   "outputs": [
    {
     "name": "stdout",
     "output_type": "stream",
     "text": [
      "🎉 Palabra agregada\n",
      "Lista: ['s']\n",
      "🚫 Error: Solo se permiten letras\n",
      "Lista: ['s']\n",
      "🎉 Palabra agregada\n",
      "Lista: ['s', 'w']\n",
      "Lista: ['s', 'w']\n"
     ]
    }
   ],
   "source": [
    "class NoAlfabeticoError(Exception):\n",
    "    pass\n",
    "\n",
    "palabras = []\n",
    "while True:\n",
    "    try:\n",
    "        palabra = input(\"Ingrese una palabra: \")\n",
    "        if palabra == \"salir\":\n",
    "            break\n",
    "        if not palabra.isalpha():\n",
    "            raise NoAlfabeticoError(\"Solo se permiten letras\")\n",
    "        palabras.append(palabra)\n",
    "    except NoAlfabeticoError as e:\n",
    "        print(\"🚫 Error:\", e)\n",
    "    except Exception as e:\n",
    "        print(\"💀 Error:\", e)\n",
    "    else:\n",
    "        print(\"🎉 Palabra agregada\")\n",
    "    finally:\n",
    "        print(\"Lista:\", palabras)"
   ]
  }
 ],
 "metadata": {
  "kernelspec": {
   "display_name": "Python 3",
   "language": "python",
   "name": "python3"
  },
  "language_info": {
   "codemirror_mode": {
    "name": "ipython",
    "version": 3
   },
   "file_extension": ".py",
   "mimetype": "text/x-python",
   "name": "python",
   "nbconvert_exporter": "python",
   "pygments_lexer": "ipython3",
   "version": "3.13.0"
  }
 },
 "nbformat": 4,
 "nbformat_minor": 5
}
