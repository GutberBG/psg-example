{
 "cells": [
  {
   "cell_type": "markdown",
   "id": "b3eff108",
   "metadata": {},
   "source": [
    "Este es un ejercicio, donde se usaran los signos: * , () \\ | / o \" ' = C, para crear una imagen por medio de prints"
   ]
  },
  {
   "cell_type": "code",
   "execution_count": 6,
   "id": "92d33b1f",
   "metadata": {},
   "outputs": [
    {
     "name": "stdout",
     "output_type": "stream",
     "text": [
      " /\\   /\\\n",
      "( o   o )\n",
      "(  =^=  )\n"
     ]
    }
   ],
   "source": [
    "#dibujar un gato con signos * , () \\ | / o \" ' = C\n",
    "print(\" /\\\\   /\\\\\")\n",
    "print(\"( o   o )\")\n",
    "print(\"(  =^=  )\")"
   ]
  }
 ],
 "metadata": {
  "kernelspec": {
   "display_name": "Python 3",
   "language": "python",
   "name": "python3"
  },
  "language_info": {
   "codemirror_mode": {
    "name": "ipython",
    "version": 3
   },
   "file_extension": ".py",
   "mimetype": "text/x-python",
   "name": "python",
   "nbconvert_exporter": "python",
   "pygments_lexer": "ipython3",
   "version": "3.13.0"
  }
 },
 "nbformat": 4,
 "nbformat_minor": 5
}
