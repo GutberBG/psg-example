{
 "cells": [
  {
   "cell_type": "markdown",
   "id": "421c4d29",
   "metadata": {},
   "source": [
    "# Batalla de Reinos\n",
    "\n",
    "**Batalla de Reinos** es un juego de estrategia por turnos en el que dos jugadores representan reinos enfrentados que buscan conquistar el castillo enemigo.  \n",
    "Cada jugador controla un conjunto de piezas.  \n",
    "El primero que llegue al castillo del oponente o elimine todas sus piezas, ¡gana la partida!\n"
   ]
  },
  {
   "cell_type": "markdown",
   "id": "c27c5071",
   "metadata": {},
   "source": [
    "## Reglas del Juego\n",
    "\n",
    "1. El tablero es 5x5.\n",
    "2. Cada jugador comienza con 3 piezas en su primera fila.\n",
    "3. Las piezas se mueven una casilla por turno (horizontal o vertical).\n",
    "4. Si una pieza se mueve a una casilla ocupada por una pieza enemiga, la elimina.\n",
    "5. El objetivo es:\n",
    "   - Llegar al castillo enemigo.\n",
    "   - Eliminar todas las piezas del oponente.\n",
    "6. Los jugadores se turnan para mover una pieza por ronda.\n"
   ]
  },
  {
   "cell_type": "code",
   "execution_count": 3,
   "id": "127bf8ae",
   "metadata": {},
   "outputs": [
    {
     "name": "stdout",
     "output_type": "stream",
     "text": [
      "  A   B   C   D   E\n",
      "+---+---+---+---+---+\n",
      "|   |   |   |   |   | 1\n",
      "+---+---+---+---+---+\n",
      "|   |   |   |   |   | 2\n",
      "+---+---+---+---+---+\n",
      "|   |   |   |   |   | 3\n",
      "+---+---+---+---+---+\n",
      "|   |   |   |   |   | 4\n",
      "+---+---+---+---+---+\n",
      "|   |   |   |   |   | 5\n",
      "+---+---+---+---+---+\n"
     ]
    }
   ],
   "source": [
    "print(\"  A   B   C   D   E\")\n",
    "print(\"+---+---+---+---+---+\")\n",
    "print(\"|   |   |   |   |   | 1\")\n",
    "print(\"+---+---+---+---+---+\")\n",
    "print(\"|   |   |   |   |   | 2\")\n",
    "print(\"+---+---+---+---+---+\")\n",
    "print(\"|   |   |   |   |   | 3\")\n",
    "print(\"+---+---+---+---+---+\")\n",
    "print(\"|   |   |   |   |   | 4\")\n",
    "print(\"+---+---+---+---+---+\")\n",
    "print(\"|   |   |   |   |   | 5\")\n",
    "print(\"+---+---+---+---+---+\")\n",
    "    "
   ]
  },
  {
   "cell_type": "markdown",
   "id": "fc0a6564",
   "metadata": {},
   "source": [
    "## Piezas del Juego\n",
    "\n",
    "- **C (Caballero)**: Fuerte en combate cuerpo a cuerpo.\n",
    "- **A (Arquero)**: Puede eliminar enemigos a distancia.\n",
    "- **M (Mago)**: Puede moverse en diagonal y eliminar enemigos.\n",
    "\n",
    "### Inicialización por Jugador\n",
    "- Jugador 1: Coloca sus piezas en la fila 1.\n",
    "- Jugador 2: Coloca sus piezas en la fila 5."
   ]
  },
  {
   "cell_type": "code",
   "execution_count": 4,
   "id": "f4f7fc32",
   "metadata": {},
   "outputs": [
    {
     "name": "stdout",
     "output_type": "stream",
     "text": [
      "  A   B   C   D   E\n",
      "+---+---+---+---+---+\n",
      "| C | A | M | A | C | 1\n",
      "+---+---+---+---+---+\n",
      "|   |   |   |   |   | 2\n",
      "+---+---+---+---+---+\n",
      "|   |   |   |   |   | 3\n",
      "+---+---+---+---+---+\n",
      "|   |   |   |   |   | 4\n",
      "+---+---+---+---+---+\n",
      "| C | A | M | A | C | 5\n",
      "+---+---+---+---+---+\n"
     ]
    }
   ],
   "source": [
    "print(\"  A   B   C   D   E\")\n",
    "print(\"+---+---+---+---+---+\")\n",
    "print(\"| C | A | M | A | C | 1\")\n",
    "print(\"+---+---+---+---+---+\")\n",
    "print(\"|   |   |   |   |   | 2\")\n",
    "print(\"+---+---+---+---+---+\")\n",
    "print(\"|   |   |   |   |   | 3\")\n",
    "print(\"+---+---+---+---+---+\")\n",
    "print(\"|   |   |   |   |   | 4\")\n",
    "print(\"+---+---+---+---+---+\")\n",
    "print(\"| C | A | M | A | C | 5\")\n",
    "print(\"+---+---+---+---+---+\")\n"
   ]
  }
 ],
 "metadata": {
  "kernelspec": {
   "display_name": "Python 3",
   "language": "python",
   "name": "python3"
  },
  "language_info": {
   "codemirror_mode": {
    "name": "ipython",
    "version": 3
   },
   "file_extension": ".py",
   "mimetype": "text/x-python",
   "name": "python",
   "nbconvert_exporter": "python",
   "pygments_lexer": "ipython3",
   "version": "3.13.0"
  }
 },
 "nbformat": 4,
 "nbformat_minor": 5
}
