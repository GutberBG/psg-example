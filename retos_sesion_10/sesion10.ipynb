{
 "cells": [
  {
   "cell_type": "code",
   "execution_count": 1,
   "id": "b9ed2581",
   "metadata": {},
   "outputs": [
    {
     "name": "stdout",
     "output_type": "stream",
     "text": [
      "{'🍕', '🌭', '🍔', '🍟'}\n",
      "{'🍟', '🍕', '🍔', '🥗', '🌭'}\n"
     ]
    }
   ],
   "source": [
    "conjunto = {'🍕','🍔','🍟','🌭'}\n",
    "print(conjunto) # {'🍔', '🌭', '🍕', '🍟'}\n",
    "conjunto.add('🥗')\n",
    "print(conjunto)  # {'🍔', '🍕', '🥗', '🍟', '🌭'}"
   ]
  },
  {
   "cell_type": "code",
   "execution_count": 2,
   "id": "82ea57c0",
   "metadata": {},
   "outputs": [
    {
     "name": "stdout",
     "output_type": "stream",
     "text": [
      "{'🍕', '🌭', '🍔', '🍟'}\n"
     ]
    }
   ],
   "source": [
    "conjunto = {'🍕','🍔','🍟','🌭'}\n",
    "print(conjunto) # {'🍔', '🌭', '🍕', '🍟'}"
   ]
  },
  {
   "cell_type": "code",
   "execution_count": 3,
   "id": "35977170",
   "metadata": {},
   "outputs": [
    {
     "name": "stdout",
     "output_type": "stream",
     "text": [
      "{'🍕', '🌭', '🍔', '🍟'}\n"
     ]
    }
   ],
   "source": [
    "conjunto = {'🍕','🍔','🍟','🌭','🍕','🍟'}\n",
    "print(conjunto) # {'🍕', '🍟', '🌭', '🍔'}"
   ]
  },
  {
   "cell_type": "code",
   "execution_count": 4,
   "id": "d46e4365",
   "metadata": {},
   "outputs": [
    {
     "name": "stdout",
     "output_type": "stream",
     "text": [
      "Conjunto de enteros\n",
      "{1, 2, 3, 4, 5}\n",
      "<class 'set'>\n"
     ]
    }
   ],
   "source": [
    "print (\"Conjunto de enteros\")\n",
    "conjunto = {1, 2, 3, 4, 5}\n",
    "print(conjunto) \n",
    "print(type(conjunto))"
   ]
  },
  {
   "cell_type": "code",
   "execution_count": 5,
   "id": "0004d754",
   "metadata": {},
   "outputs": [
    {
     "name": "stdout",
     "output_type": "stream",
     "text": [
      "Conjunto de cadenas\n",
      "{'🍕', '🌭', '🍔', '🍟'}\n",
      "<class 'set'>\n"
     ]
    }
   ],
   "source": [
    "print (\"Conjunto de cadenas\")\n",
    "conjunto = {'🍕','🍔','🍟','🌭'}\n",
    "print(conjunto)\n",
    "print(type(conjunto))"
   ]
  },
  {
   "cell_type": "code",
   "execution_count": 6,
   "id": "97bf372d",
   "metadata": {},
   "outputs": [
    {
     "name": "stdout",
     "output_type": "stream",
     "text": [
      "Conjunto mixto\n",
      "{1, '☕', 3.14}\n",
      "<class 'set'>\n"
     ]
    }
   ],
   "source": [
    "print (\"Conjunto mixto\")\n",
    "conjunto = {1, True, 3.14, '☕'}\n",
    "print(conjunto)\n",
    "print(type(conjunto))\n"
   ]
  },
  {
   "cell_type": "code",
   "execution_count": 7,
   "id": "f0b568e1",
   "metadata": {},
   "outputs": [
    {
     "name": "stdout",
     "output_type": "stream",
     "text": [
      "Conjunto vacío\n",
      "set()\n",
      "<class 'set'>\n"
     ]
    }
   ],
   "source": [
    "print (\"Conjunto vacío\")\n",
    "conjunto = set()\n",
    "print(conjunto)\n",
    "print(type(conjunto))"
   ]
  },
  {
   "cell_type": "code",
   "execution_count": 8,
   "id": "de2138fe",
   "metadata": {},
   "outputs": [
    {
     "name": "stdout",
     "output_type": "stream",
     "text": [
      "Conjunto a partir de la cadena\n",
      "{'d', 'o', 'l', 'n', 'H', 'u', ' ', 'M', 'a'}\n",
      "<class 'set'>\n"
     ]
    }
   ],
   "source": [
    "print (\"Conjunto a partir de la cadena\")\n",
    "cadena = 'Hola Mundo'\n",
    "conjunto = set(cadena)\n",
    "print(conjunto)\n",
    "print(type(conjunto))"
   ]
  },
  {
   "cell_type": "code",
   "execution_count": 9,
   "id": "ee6f119e",
   "metadata": {},
   "outputs": [
    {
     "name": "stdout",
     "output_type": "stream",
     "text": [
      "Conjunto a partir de una tupla\n",
      "{1, 2, 3, 4, 5}\n",
      "<class 'set'>\n"
     ]
    }
   ],
   "source": [
    "print (\"Conjunto a partir de una tupla\")\n",
    "tupla = (1, 2, 3, 4, 5, 5)\n",
    "conjunto = set(tupla)\n",
    "print(conjunto)\n",
    "print(type(conjunto))"
   ]
  },
  {
   "cell_type": "code",
   "execution_count": 10,
   "id": "0d702499",
   "metadata": {},
   "outputs": [
    {
     "name": "stdout",
     "output_type": "stream",
     "text": [
      "Conjunto a partir de una lista\n",
      "{False, True}\n",
      "<class 'set'>\n"
     ]
    }
   ],
   "source": [
    "print (\"Conjunto a partir de una lista\")\n",
    "lista = [True, False, 0, 1]\n",
    "conjunto = set(lista)\n",
    "print(conjunto)\n",
    "print(type(conjunto))"
   ]
  },
  {
   "cell_type": "code",
   "execution_count": 11,
   "id": "b6c081b0",
   "metadata": {},
   "outputs": [
    {
     "name": "stdout",
     "output_type": "stream",
     "text": [
      "Conjunto por comprensión\n",
      "{'🍕', '🍔', '🍟'}\n",
      "<class 'set'>\n"
     ]
    }
   ],
   "source": [
    "print (\"Conjunto por comprensión\")\n",
    "conjunto = {x for x in '🍕🍔🍟🍕🍔🍟🍔🍟'}\n",
    "print(conjunto)\n",
    "print(type(conjunto))"
   ]
  },
  {
   "cell_type": "code",
   "execution_count": 13,
   "id": "93636241",
   "metadata": {},
   "outputs": [],
   "source": [
    "conjunto1 = {1, 2, 3}\n",
    "conjunto2 = {4, 5, 6}\n"
   ]
  },
  {
   "cell_type": "code",
   "execution_count": 15,
   "id": "6f3634ce",
   "metadata": {},
   "outputs": [
    {
     "name": "stdout",
     "output_type": "stream",
     "text": [
      "Método add()\n",
      "{'🍕', '🌭', '🍔', '🍟'}\n",
      "{'🍟', '🍕', '🍔', '🥗', '🌭'}\n"
     ]
    }
   ],
   "source": [
    "\n",
    "print (\"Método add()\")\n",
    "conjunto = {'🍕','🍔','🍟','🌭'}\n",
    "print (conjunto)\n",
    "conjunto.add('🥗')\n",
    "print(conjunto) \n"
   ]
  },
  {
   "cell_type": "code",
   "execution_count": 16,
   "id": "7c5e41f7",
   "metadata": {},
   "outputs": [
    {
     "name": "stdout",
     "output_type": "stream",
     "text": [
      "Método update()\n",
      "{'🍕', '🌭', '🍔', '🍟'}\n",
      "{'🍟', '🍕', '🍦', '🍔', '🥤', '🌭'}\n",
      "{'🍟', '🍕', '🍦', '🍔', '🍩', '🥤', '🌭', '🍪'}\n",
      "{'🍟', '🍕', '🍦', '🍔', '🍩', '🍬', '🍫', '🥤', '🌭', '🍪'}\n",
      "{'🍟', '🍭', '🍕', '🍦', '🍔', '🍩', '🍬', '🍫', '🥤', '🌭', '🍪', '🍮'}\n"
     ]
    }
   ],
   "source": [
    "print (\"Método update()\")\n",
    "conjunto = {'🍕','🍔','🍟','🌭'}\n",
    "print (conjunto)\n",
    "conjunto.update(['🥤','🍦'])\n",
    "print(conjunto) \n",
    "conjunto.update('🍩🍪')\n",
    "print(conjunto) \n",
    "conjunto.update(('🍫','🍬'))\n",
    "print(conjunto)\n",
    "conjunto.update({'🍭','🍮'})\n",
    "print(conjunto)"
   ]
  },
  {
   "cell_type": "code",
   "execution_count": 17,
   "id": "49e404d3",
   "metadata": {},
   "outputs": [
    {
     "name": "stdout",
     "output_type": "stream",
     "text": [
      "Método remove()\n",
      "{'🍕', '🌭', '🍔', '🍟'}\n",
      "{'🍕', '🌭', '🍟'}\n"
     ]
    }
   ],
   "source": [
    "print (\"Método remove()\")\n",
    "conjunto = {'🍕','🍔','🍟','🌭'} \n",
    "print (conjunto)\n",
    "conjunto.remove('🍔')\n",
    "print(conjunto)"
   ]
  },
  {
   "cell_type": "code",
   "execution_count": 18,
   "id": "12c4d3f1",
   "metadata": {},
   "outputs": [
    {
     "name": "stdout",
     "output_type": "stream",
     "text": [
      "Método discard()\n",
      "{'🍕', '🌭', '🍔', '🍟'}\n",
      "{'🍕', '🌭', '🍟'}\n",
      "{'🍕', '🌭', '🍟'}\n"
     ]
    }
   ],
   "source": [
    "print (\"Método discard()\")\n",
    "conjunto = {'🍕','🍔','🍟','🌭'}\n",
    "print (conjunto)\n",
    "conjunto.discard('🍔')\n",
    "print(conjunto)\n",
    "conjunto.discard('🍔')\n",
    "print(conjunto)"
   ]
  },
  {
   "cell_type": "code",
   "execution_count": 19,
   "id": "e6c3eadf",
   "metadata": {},
   "outputs": [
    {
     "name": "stdout",
     "output_type": "stream",
     "text": [
      "Método pop()\n",
      "{'🍟', '🥤', '🍕', '🌭', '🍦', '🍔'}\n",
      "🍟\n",
      "{'🥤', '🍕', '🌭', '🍦', '🍔'}\n",
      "🥤\n",
      "{'🍕', '🌭', '🍦', '🍔'}\n"
     ]
    }
   ],
   "source": [
    "print (\"Método pop()\")\n",
    "conjunto = {'🍕','🍔','🍟','🌭', '🥤','🍦'}\n",
    "print (conjunto)\n",
    "print(conjunto.pop())\n",
    "print(conjunto)\n",
    "print(conjunto.pop())\n",
    "print(conjunto)\n"
   ]
  },
  {
   "cell_type": "code",
   "execution_count": 20,
   "id": "5e54e1f5",
   "metadata": {},
   "outputs": [
    {
     "name": "stdout",
     "output_type": "stream",
     "text": [
      "Método clear()\n",
      "{'🍕', '🌭', '🍔', '🍟'}\n",
      "set()\n"
     ]
    }
   ],
   "source": [
    "print (\"Método clear()\")\n",
    "conjunto = {'🍕','🍔','🍟','🌭'}\n",
    "print (conjunto)\n",
    "conjunto.clear()\n",
    "print(conjunto)"
   ]
  },
  {
   "cell_type": "code",
   "execution_count": 21,
   "id": "1a845ab2",
   "metadata": {},
   "outputs": [
    {
     "name": "stdout",
     "output_type": "stream",
     "text": [
      "Método union()\n",
      "{'🍟', '🍔', '🥤'} {'🍕', '🍨', '🥤'}\n",
      "{'🍟', '🍨', '🥤', '🍕', '🍔'}\n"
     ]
    }
   ],
   "source": [
    "print (\"Método union()\")\n",
    "conjunto1 = {'🍔','🍟', '🥤'}\n",
    "conjunto2 = {'🍕','🍨','🥤'}\n",
    "print (conjunto1, conjunto2)\n",
    "union = conjunto1.union(conjunto2)\n",
    "print(union)"
   ]
  },
  {
   "cell_type": "code",
   "execution_count": 22,
   "id": "a4cbe657",
   "metadata": {},
   "outputs": [
    {
     "name": "stdout",
     "output_type": "stream",
     "text": [
      "Método intersection()\n",
      "{'🍟', '🍔', '🥤'} {'🍕', '🍨', '🥤'}\n",
      "{'🥤'}\n"
     ]
    }
   ],
   "source": [
    "print (\"Método intersection()\")\n",
    "conjunto1 = {'🍔','🍟', '🥤'}\n",
    "conjunto2 = {'🍕','🍨','🥤'}\n",
    "print (conjunto1, conjunto2)\n",
    "interseccion = conjunto1.intersection(conjunto2)\n",
    "print(interseccion)"
   ]
  },
  {
   "cell_type": "code",
   "execution_count": 23,
   "id": "51a82c74",
   "metadata": {},
   "outputs": [
    {
     "name": "stdout",
     "output_type": "stream",
     "text": [
      "Método difference()\n",
      "1: {'🍟', '🍔', '🥤'} 2: {'🍕', '🍨', '🥤'}\n",
      "1 y 2: {'🍟', '🍔'}\n",
      "2 y 1: {'🍕', '🍨'}\n"
     ]
    }
   ],
   "source": [
    "print (\"Método difference()\")\n",
    "conjunto1 = {'🍔','🍟', '🥤'}\n",
    "conjunto2 = {'🍕','🍨','🥤'}\n",
    "print (\"1:\",conjunto1, \"2:\",conjunto2)\n",
    "diferencia = conjunto1.difference(conjunto2)\n",
    "print(\"1 y 2:\",diferencia)\n",
    "diferencia = conjunto2.difference(conjunto1)\n",
    "print(\"2 y 1:\",diferencia)"
   ]
  },
  {
   "cell_type": "code",
   "execution_count": 24,
   "id": "7aeb0e3d",
   "metadata": {},
   "outputs": [
    {
     "name": "stdout",
     "output_type": "stream",
     "text": [
      "Método symmetric_difference()\n",
      "{'🍟', '🍔', '🥤'} {'🍕', '🍨', '🥤'}\n",
      "{'🍨', '🍟', '🍕', '🍔'}\n"
     ]
    }
   ],
   "source": [
    "\n",
    "print (\"Método symmetric_difference()\")\n",
    "conjunto1 = {'🍔','🍟', '🥤'}\n",
    "conjunto2 = {'🍕','🍨','🥤'}\n",
    "print (conjunto1, conjunto2)\n",
    "diferencia_simetrica = conjunto1.symmetric_difference(conjunto2)\n",
    "print(diferencia_simetrica)"
   ]
  },
  {
   "cell_type": "code",
   "execution_count": 25,
   "id": "70464460",
   "metadata": {},
   "outputs": [
    {
     "name": "stdout",
     "output_type": "stream",
     "text": [
      "Método intersection_update()\n",
      "{'🍟', '🍔', '🥤'} {'🍕', '🍨', '🥤'}\n",
      "{'🥤'}\n"
     ]
    }
   ],
   "source": [
    "\n",
    "print (\"Método intersection_update()\")\n",
    "conjunto1 = {'🍔','🍟', '🥤'}\n",
    "conjunto2 = {'🍕','🍨','🥤'}\n",
    "print (conjunto1, conjunto2)\n",
    "conjunto1.intersection_update(conjunto2)\n",
    "print(conjunto1)"
   ]
  },
  {
   "cell_type": "code",
   "execution_count": 26,
   "id": "ab13e832",
   "metadata": {},
   "outputs": [
    {
     "name": "stdout",
     "output_type": "stream",
     "text": [
      "Método difference_update()\n",
      "1: {'🍟', '🍔', '🥤'} 2: {'🍕', '🍨', '🥤'}\n",
      "1: {'🍟', '🍔'} 2: {'🍕', '🍨', '🥤'}\n"
     ]
    }
   ],
   "source": [
    "print (\"Método difference_update()\")\n",
    "conjunto1 = {'🍔','🍟', '🥤'}\n",
    "conjunto2 = {'🍕','🍨','🥤'}\n",
    "print (\"1:\",conjunto1, \"2:\",conjunto2)\n",
    "conjunto1.difference_update(conjunto2)\n",
    "print (\"1:\",conjunto1, \"2:\",conjunto2)"
   ]
  },
  {
   "cell_type": "code",
   "execution_count": 27,
   "id": "561af30a",
   "metadata": {},
   "outputs": [
    {
     "name": "stdout",
     "output_type": "stream",
     "text": [
      "Método symmetric_difference_update()\n",
      "{'🍟', '🍔', '🥤'} {'🍕', '🍨', '🥤'}\n",
      "{'🍟', '🍨', '🍕', '🍔'}\n"
     ]
    }
   ],
   "source": [
    "print (\"Método symmetric_difference_update()\")\n",
    "conjunto1 = {'🍔','🍟', '🥤'}\n",
    "conjunto2 = {'🍕','🍨','🥤'}\n",
    "print (conjunto1, conjunto2)\n",
    "conjunto1.symmetric_difference_update(conjunto2)\n",
    "print(conjunto1)\n"
   ]
  },
  {
   "cell_type": "code",
   "execution_count": 28,
   "id": "f9daf2b3",
   "metadata": {},
   "outputs": [
    {
     "name": "stdout",
     "output_type": "stream",
     "text": [
      "Método issubset()\n",
      "{'🍟', '🍔', '🥤'} {'🍕', '🍨', '🥤'} {'🍟', '🍔'}\n",
      "False\n",
      "True\n"
     ]
    }
   ],
   "source": [
    "print (\"Método issubset()\")\n",
    "conjunto1 = {'🍔','🍟', '🥤'}\n",
    "conjunto2 = {'🍕','🍨','🥤'}\n",
    "conjunto3 = {'🍔','🍟'}\n",
    "print (conjunto1, conjunto2,conjunto3)\n",
    "\n",
    "print(conjunto1.issubset(conjunto2))\n",
    "\n",
    "print(conjunto3.issubset(conjunto1))"
   ]
  },
  {
   "cell_type": "code",
   "execution_count": 30,
   "id": "3b6bfc55",
   "metadata": {},
   "outputs": [
    {
     "name": "stdout",
     "output_type": "stream",
     "text": [
      "Método issuperset()\n",
      "{'🍟', '🍔', '🥤'} {'🍕', '🍨', '🥤'} {'🍟', '🍔'}\n",
      "False\n",
      "True\n"
     ]
    }
   ],
   "source": [
    "print (\"Método issuperset()\")\n",
    "conjunto1 = {'🍔','🍟', '🥤'}\n",
    "conjunto2 = {'🍕','🍨','🥤'}\n",
    "conjunto3 = {'🍔','🍟'}\n",
    "print (conjunto1, conjunto2,conjunto3)\n",
    "\n",
    "print(conjunto1.issuperset(conjunto2))\n",
    "\n",
    "print(conjunto1.issuperset(conjunto3))"
   ]
  },
  {
   "cell_type": "code",
   "execution_count": 31,
   "id": "cfc3dbd4",
   "metadata": {},
   "outputs": [
    {
     "name": "stdout",
     "output_type": "stream",
     "text": [
      "Método isdisjoint()\n",
      "{'🍟', '🍔', '🥤'} {'🍕', '🍨'} {'🍟', '🍔'}\n",
      "True\n",
      "False\n"
     ]
    }
   ],
   "source": [
    "print (\"Método isdisjoint()\")\n",
    "conjunto1 = {'🍔','🍟', '🥤'}\n",
    "conjunto2 = {'🍕','🍨'}\n",
    "conjunto3 = {'🍔','🍟'}\n",
    "print (conjunto1, conjunto2,conjunto3)\n",
    "print(conjunto1.isdisjoint(conjunto2))\n",
    "print(conjunto1.isdisjoint(conjunto3))"
   ]
  },
  {
   "cell_type": "code",
   "execution_count": 32,
   "id": "b78443c9",
   "metadata": {},
   "outputs": [
    {
     "name": "stdout",
     "output_type": "stream",
     "text": [
      "Asignación por referencia\n",
      "{'🍕', '🌭', '🍔', '🍟'}\n",
      "{'🍟', '🍕', '🍔', '🥗', '🌭'}\n",
      "{'🍟', '🍕', '🍔', '🥗', '🌭'}\n"
     ]
    }
   ],
   "source": [
    "print (\"Asignación por referencia\")\n",
    "conjunto = {'🍕','🍔','🍟','🌭'}\n",
    "print (conjunto)\n",
    "copia = conjunto\n",
    "copia.add('🥗')\n",
    "print(conjunto)\n",
    "print(copia)"
   ]
  },
  {
   "cell_type": "code",
   "execution_count": 33,
   "id": "beadaf63",
   "metadata": {},
   "outputs": [
    {
     "name": "stdout",
     "output_type": "stream",
     "text": [
      "Método copy()\n",
      "{'🍕', '🌭', '🍔', '🍟'}\n",
      "{'🍕', '🌭', '🍔', '🍟'}\n",
      "{'🍟', '🍕', '🍔', '🥗', '🌭'}\n"
     ]
    }
   ],
   "source": [
    "print (\"Método copy()\")\n",
    "conjunto = {'🍕','🍔','🍟','🌭'}\n",
    "print (conjunto)\n",
    "copia = conjunto.copy()\n",
    "copia.add('🥗')\n",
    "print(conjunto)\n",
    "print(copia)"
   ]
  },
  {
   "cell_type": "code",
   "execution_count": 34,
   "id": "9779543e",
   "metadata": {},
   "outputs": [
    {
     "name": "stdout",
     "output_type": "stream",
     "text": [
      "Función len()\n",
      "{'🍕', '🌭', '🍔', '🍟'}\n",
      "4\n"
     ]
    }
   ],
   "source": [
    "\n",
    "print (\"Función len()\")\n",
    "conjunto = {'🍕','🍔','🍟','🌭'}\n",
    "print (conjunto)\n",
    "print(len(conjunto))"
   ]
  },
  {
   "cell_type": "code",
   "execution_count": 35,
   "id": "91962fb6",
   "metadata": {},
   "outputs": [
    {
     "name": "stdout",
     "output_type": "stream",
     "text": [
      "Función max()\n",
      "{1, 2, 3, 4, 5}\n",
      "5\n",
      "{'🍕', '🌭', '🍔', '🍟'}\n",
      "🍟\n"
     ]
    }
   ],
   "source": [
    "print (\"Función max()\")\n",
    "conjunto = {1, 2, 3, 4, 5}\n",
    "print (conjunto)\n",
    "print (max(conjunto))\n",
    "conjunto = {'🍕','🍔','🍟','🌭'}\n",
    "print (conjunto)\n",
    "print(max(conjunto))"
   ]
  },
  {
   "cell_type": "code",
   "execution_count": 36,
   "id": "5f5efeb9",
   "metadata": {},
   "outputs": [
    {
     "name": "stdout",
     "output_type": "stream",
     "text": [
      "Función min()\n",
      "{1, 2, 3, 4, 5}\n",
      "1\n",
      "{'🍨', '🍕', '🍔', '🍟'}\n",
      "🍔\n"
     ]
    }
   ],
   "source": [
    "print (\"Función min()\")\n",
    "conjunto = {1, 2, 3, 4, 5}\n",
    "print (conjunto)\n",
    "print (min(conjunto))\n",
    "conjunto = {'🍨','🍔','🍟','🍕'}\n",
    "print (conjunto)\n",
    "print(min(conjunto))"
   ]
  },
  {
   "cell_type": "code",
   "execution_count": 37,
   "id": "aa85f57c",
   "metadata": {},
   "outputs": [
    {
     "name": "stdout",
     "output_type": "stream",
     "text": [
      "Función sum()\n",
      "{1, 2, 3, 4, 5}\n",
      "15\n"
     ]
    }
   ],
   "source": [
    "print (\"Función sum()\")\n",
    "conjunto = {1, 2, 3, 4, 5}\n",
    "print (conjunto)\n",
    "print (sum(conjunto))"
   ]
  },
  {
   "cell_type": "code",
   "execution_count": 38,
   "id": "04ebfc0c",
   "metadata": {},
   "outputs": [
    {
     "name": "stdout",
     "output_type": "stream",
     "text": [
      "Operador |=\n",
      "{'🍟', '🍔', '🥤'} {'🍕', '🍨'}\n",
      "{'🍟', '🍨', '🥤', '🍕', '🍔'}\n"
     ]
    }
   ],
   "source": [
    "print (\"Operador |=\")\n",
    "conjunto1 = {'🍔','🍟', '🥤'}\n",
    "conjunto2 = {'🍕','🍨'}\n",
    "print (conjunto1, conjunto2)\n",
    "conjunto1 |= conjunto2\n",
    "print(conjunto1)"
   ]
  },
  {
   "cell_type": "code",
   "execution_count": 39,
   "id": "7f718e21",
   "metadata": {},
   "outputs": [
    {
     "name": "stdout",
     "output_type": "stream",
     "text": [
      "Operador ==\n",
      "{'🍟', '🍔', '🥤'} {'🍟', '🍔', '🥤'} {'🍕', '🍨'}\n",
      "True\n",
      "False\n"
     ]
    }
   ],
   "source": [
    "print (\"Operador ==\")\n",
    "conjunto1 = {'🍔','🍟', '🥤'}\n",
    "conjunto2 = {'🍔','🍟', '🥤'}\n",
    "conjunto3 = {'🍕','🍨'}\n",
    "print (conjunto1, conjunto2, conjunto3)\n",
    "print(conjunto1 == conjunto2)\n",
    "print(conjunto1 == conjunto3)"
   ]
  },
  {
   "cell_type": "code",
   "execution_count": 40,
   "id": "7ec40f8e",
   "metadata": {},
   "outputs": [
    {
     "name": "stdout",
     "output_type": "stream",
     "text": [
      "Operador !=\n",
      "{'🍟', '🍔', '🥤'} {'🍟', '🍔', '🥤'} {'🍕', '🍨'}\n",
      "False\n",
      "True\n"
     ]
    }
   ],
   "source": [
    "print (\"Operador !=\")\n",
    "conjunto1 = {'🍔','🍟', '🥤'}\n",
    "conjunto2 = {'🍔','🍟', '🥤'}\n",
    "conjunto3 = {'🍕','🍨'}\n",
    "print (conjunto1, conjunto2, conjunto3)\n",
    "print(conjunto1 != conjunto2)\n",
    "print(conjunto1 != conjunto3)"
   ]
  },
  {
   "cell_type": "code",
   "execution_count": 41,
   "id": "0832a12f",
   "metadata": {},
   "outputs": [
    {
     "name": "stdout",
     "output_type": "stream",
     "text": [
      "Operador <\n",
      "{'🍟', '🍔'} {'🍟', '🍔', '🥤'} {'🍕', '🍨'}\n",
      "True\n",
      "False\n"
     ]
    }
   ],
   "source": [
    "print (\"Operador <\")\n",
    "conjunto1 = {'🍔','🍟'}\n",
    "conjunto2 = {'🍔','🍟', '🥤'}\n",
    "conjunto3 = {'🍕','🍨'}\n",
    "print (conjunto1, conjunto2, conjunto3)\n",
    "print(conjunto1 < conjunto2)\n",
    "print(conjunto1 < conjunto3)"
   ]
  },
  {
   "cell_type": "code",
   "execution_count": 42,
   "id": "13f2fb99",
   "metadata": {},
   "outputs": [
    {
     "name": "stdout",
     "output_type": "stream",
     "text": [
      "Operador >\n",
      "{'🍟', '🍕', '🍔', '🥤'} {'🍟', '🍔', '🥤'} {'🍕', '🍨'}\n",
      "True\n",
      "False\n"
     ]
    }
   ],
   "source": [
    "print (\"Operador >\")\n",
    "conjunto1 = {'🍔','🍟','🥤','🍕'}\n",
    "conjunto2 = {'🍔','🍟', '🥤'}\n",
    "conjunto3 = {'🍕','🍨'}\n",
    "print (conjunto1, conjunto2, conjunto3)\n",
    "print(conjunto1 > conjunto2)\n",
    "print(conjunto1 > conjunto3)"
   ]
  },
  {
   "cell_type": "code",
   "execution_count": 43,
   "id": "543e1715",
   "metadata": {},
   "outputs": [
    {
     "name": "stdout",
     "output_type": "stream",
     "text": [
      "Operador <=\n",
      "{'🍟', '🍔'} {'🍟', '🍔'} {'🍕', '🍨'}\n",
      "True\n",
      "False\n"
     ]
    }
   ],
   "source": [
    "print (\"Operador <=\")\n",
    "conjunto1 = {'🍔','🍟'}\n",
    "conjunto2 = {'🍔','🍟'}\n",
    "conjunto3 = {'🍕','🍨'}\n",
    "print (conjunto1, conjunto2, conjunto3)\n",
    "print(conjunto1 <= conjunto2)\n",
    "print(conjunto1 <= conjunto3)"
   ]
  },
  {
   "cell_type": "code",
   "execution_count": 44,
   "id": "c1857562",
   "metadata": {},
   "outputs": [
    {
     "name": "stdout",
     "output_type": "stream",
     "text": [
      "Operador >=\n",
      "{'🍟', '🍔'} {'🍟', '🍔'} {'🍕', '🍨'}\n",
      "True\n",
      "False\n"
     ]
    }
   ],
   "source": [
    "print (\"Operador >=\")\n",
    "conjunto1 = {'🍔','🍟'}\n",
    "conjunto2 = {'🍔','🍟'}\n",
    "conjunto3 = {'🍕','🍨'}\n",
    "print (conjunto1, conjunto2, conjunto3)\n",
    "print(conjunto1 >= conjunto2)\n",
    "print(conjunto1 >= conjunto3)"
   ]
  },
  {
   "cell_type": "code",
   "execution_count": 45,
   "id": "dd3c660d",
   "metadata": {},
   "outputs": [
    {
     "name": "stdout",
     "output_type": "stream",
     "text": [
      "Operador |\n",
      "{'🍟', '🍔', '🥤'} {'🍕', '🍨', '🥤'}\n",
      "{'🍟', '🍨', '🥤', '🍕', '🍔'}\n"
     ]
    }
   ],
   "source": [
    "print (\"Operador |\")\n",
    "conjunto1 = {'🍔','🍟', '🥤'}\n",
    "conjunto2 = {'🍕','🍨','🥤'}\n",
    "print (conjunto1, conjunto2)\n",
    "union = conjunto1 | conjunto2\n",
    "print(union)"
   ]
  },
  {
   "cell_type": "code",
   "execution_count": 46,
   "id": "2d179955",
   "metadata": {},
   "outputs": [
    {
     "name": "stdout",
     "output_type": "stream",
     "text": [
      "Operador &\n",
      "{'🍟', '🍔', '🥤'} {'🍕', '🍨', '🥤'}\n",
      "{'🥤'}\n"
     ]
    }
   ],
   "source": [
    "print (\"Operador &\")\n",
    "conjunto1 = {'🍔','🍟', '🥤'}\n",
    "conjunto2 = {'🍕','🍨','🥤'}\n",
    "print (conjunto1, conjunto2)\n",
    "interseccion = conjunto1 & conjunto2\n",
    "print(interseccion)"
   ]
  },
  {
   "cell_type": "code",
   "execution_count": 47,
   "id": "d8d293ff",
   "metadata": {},
   "outputs": [
    {
     "name": "stdout",
     "output_type": "stream",
     "text": [
      "Operador -\n",
      "1: {'🍟', '🍔', '🥤'} 2: {'🍕', '🍨', '🥤'}\n",
      "1 - 2: {'🍟', '🍔'}\n",
      "2 - 1: {'🍕', '🍨'}\n"
     ]
    }
   ],
   "source": [
    "print (\"Operador -\")\n",
    "conjunto1 = {'🍔','🍟', '🥤'}\n",
    "conjunto2 = {'🍕','🍨','🥤'}\n",
    "print (\"1:\",conjunto1, \"2:\",conjunto2)\n",
    "diferencia = conjunto1 - conjunto2\n",
    "print(\"1 - 2:\",diferencia)\n",
    "diferencia = conjunto2 - conjunto1\n",
    "print(\"2 - 1:\",diferencia)"
   ]
  },
  {
   "cell_type": "code",
   "execution_count": 48,
   "id": "dc79f6d0",
   "metadata": {},
   "outputs": [
    {
     "name": "stdout",
     "output_type": "stream",
     "text": [
      "Operador ^\n",
      "{'🍟', '🍔', '🥤'} {'🍕', '🍨', '🥤'}\n",
      "{'🍨', '🍟', '🍕', '🍔'}\n"
     ]
    }
   ],
   "source": [
    "print (\"Operador ^\")\n",
    "conjunto1 = {'🍔','🍟', '🥤'}\n",
    "conjunto2 = {'🍕','🍨','🥤'}\n",
    "print (conjunto1, conjunto2)\n",
    "diferencia_simetrica = conjunto1 ^ conjunto2\n",
    "print(diferencia_simetrica)"
   ]
  },
  {
   "cell_type": "code",
   "execution_count": 49,
   "id": "b9a86e85",
   "metadata": {},
   "outputs": [
    {
     "name": "stdout",
     "output_type": "stream",
     "text": [
      "Operador |= Unión\n",
      "{'🍟', '🍔', '🥤'} {'🍕', '🍨', '🥤'}\n",
      "{'🍟', '🍨', '🥤', '🍕', '🍔'}\n"
     ]
    }
   ],
   "source": [
    "\n",
    "print (\"Operador |= Unión\")\n",
    "conjunto1 = {'🍔','🍟', '🥤'}\n",
    "conjunto2 = {'🍕','🍨','🥤'}\n",
    "print (conjunto1, conjunto2)\n",
    "conjunto1 |= conjunto2\n",
    "print(conjunto1)"
   ]
  },
  {
   "cell_type": "code",
   "execution_count": 50,
   "id": "da8d7f2b",
   "metadata": {},
   "outputs": [
    {
     "name": "stdout",
     "output_type": "stream",
     "text": [
      "Operador &= Intersección\n",
      "{'🍟', '🍔', '🥤'} {'🍕', '🍨', '🥤'}\n",
      "{'🥤'}\n"
     ]
    }
   ],
   "source": [
    "print (\"Operador &= Intersección\")\n",
    "conjunto1 = {'🍔','🍟', '🥤'}\n",
    "conjunto2 = {'🍕','🍨','🥤'}\n",
    "print (conjunto1, conjunto2)\n",
    "conjunto1 &= conjunto2\n",
    "print(conjunto1)"
   ]
  },
  {
   "cell_type": "code",
   "execution_count": 51,
   "id": "11267532",
   "metadata": {},
   "outputs": [
    {
     "name": "stdout",
     "output_type": "stream",
     "text": [
      "Operador -= Diferencia\n",
      "1: {'🍟', '🍔', '🥤'} 2: {'🍕', '🍨', '🥤'}\n",
      "1 - 2: {'🍟', '🍔'}\n",
      "2 - 1: {'🍕', '🍨'}\n"
     ]
    }
   ],
   "source": [
    "print (\"Operador -= Diferencia\")\n",
    "conjunto1 = {'🍔','🍟', '🥤'}\n",
    "conjunto2 = {'🍕','🍨','🥤'}\n",
    "print (\"1:\",conjunto1, \"2:\",conjunto2)\n",
    "conjunto1 -= conjunto2\n",
    "print(\"1 - 2:\",conjunto1)\n",
    "conjunto1 = {'🍔','🍟', '🥤'}\n",
    "conjunto2 -= conjunto1\n",
    "print(\"2 - 1:\",conjunto2)"
   ]
  },
  {
   "cell_type": "code",
   "execution_count": 52,
   "id": "a72a69ca",
   "metadata": {},
   "outputs": [
    {
     "name": "stdout",
     "output_type": "stream",
     "text": [
      "Operador ^= Diferencia simétrica\n",
      "{'🍟', '🍔', '🥤'} {'🍕', '🍨', '🥤'}\n",
      "{'🍟', '🍨', '🍕', '🍔'}\n"
     ]
    }
   ],
   "source": [
    "print (\"Operador ^= Diferencia simétrica\")\n",
    "conjunto1 = {'🍔','🍟', '🥤'}\n",
    "conjunto2 = {'🍕','🍨','🥤'}\n",
    "print (conjunto1, conjunto2)\n",
    "conjunto1 ^= conjunto2\n",
    "print(conjunto1)"
   ]
  },
  {
   "cell_type": "code",
   "execution_count": 53,
   "id": "e54ecdad",
   "metadata": {},
   "outputs": [
    {
     "name": "stdout",
     "output_type": "stream",
     "text": [
      "frozenset({'🍟', '🍕', '🌭', '🍔', '🥗'})\n",
      "<class 'frozenset'>\n"
     ]
    }
   ],
   "source": [
    "conjunto = frozenset({'🍔','🍕','🥗','🍟','🌭'})\n",
    "print(conjunto)\n",
    "print(type(conjunto))\n"
   ]
  },
  {
   "cell_type": "code",
   "execution_count": 56,
   "id": "785baeab",
   "metadata": {},
   "outputs": [
    {
     "name": "stdout",
     "output_type": "stream",
     "text": [
      "frozenset({1, 2, 3, 4, 5})\n"
     ]
    }
   ],
   "source": [
    "conjunto = frozenset({1, 2, 3, 4, 5})\n",
    "print(conjunto)\n",
    "\n"
   ]
  },
  {
   "cell_type": "code",
   "execution_count": 57,
   "id": "6cb49a7b",
   "metadata": {},
   "outputs": [
    {
     "name": "stdout",
     "output_type": "stream",
     "text": [
      "Conjunto de conjuntos\n",
      "{frozenset({'🍅', '🍎', '🍓'}), frozenset({'🍈', '🍐', '🍏'})}\n",
      "<class 'set'>\n"
     ]
    }
   ],
   "source": [
    "print (\"Conjunto de conjuntos\")\n",
    "conjunto = {frozenset({'🍅','🍓','🍎'}), frozenset({'🍈','🍐','🍏'})}\n",
    "print(conjunto)\n",
    "print(type(conjunto))"
   ]
  }
 ],
 "metadata": {
  "kernelspec": {
   "display_name": "Python 3",
   "language": "python",
   "name": "python3"
  },
  "language_info": {
   "codemirror_mode": {
    "name": "ipython",
    "version": 3
   },
   "file_extension": ".py",
   "mimetype": "text/x-python",
   "name": "python",
   "nbconvert_exporter": "python",
   "pygments_lexer": "ipython3",
   "version": "3.13.0"
  }
 },
 "nbformat": 4,
 "nbformat_minor": 5
}
