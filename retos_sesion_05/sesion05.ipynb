{
 "cells": [
  {
   "cell_type": "code",
   "execution_count": 4,
   "id": "380f2e8a",
   "metadata": {},
   "outputs": [
    {
     "name": "stdout",
     "output_type": "stream",
     "text": [
      "<class 'int'>\n",
      "10\n",
      "<class 'int'>\n"
     ]
    }
   ],
   "source": [
    "print(type(1))\n",
    "\n",
    "print (10)\n",
    "print ( type (10) )"
   ]
  },
  {
   "cell_type": "code",
   "execution_count": 5,
   "id": "5a6ced48",
   "metadata": {},
   "outputs": [
    {
     "name": "stdout",
     "output_type": "stream",
     "text": [
      "100\n",
      "<class 'int'>\n"
     ]
    }
   ],
   "source": [
    "# Variable 100 Entero\n",
    "variable = 100\n",
    "print (variable)\n",
    "print ( type (variable) )"
   ]
  },
  {
   "cell_type": "code",
   "execution_count": 6,
   "id": "031a8686",
   "metadata": {},
   "outputs": [
    {
     "name": "stdout",
     "output_type": "stream",
     "text": [
      "20\n",
      "<class 'int'>\n"
     ]
    }
   ],
   "source": [
    "# Variable 20 Entero\n",
    "variable_2 = int (20)\n",
    "print (variable_2)\n",
    "print ( type (variable_2) )"
   ]
  },
  {
   "cell_type": "code",
   "execution_count": 7,
   "id": "ab062a16",
   "metadata": {},
   "outputs": [
    {
     "name": "stdout",
     "output_type": "stream",
     "text": [
      "Base decimal\n",
      "10\n",
      "Base binaria\n",
      "10\n",
      "Base octal\n",
      "10\n",
      "Base hexadecimal\n",
      "10\n"
     ]
    }
   ],
   "source": [
    "# Valor 10 en base decimal\n",
    "print (\"Base decimal\")\n",
    "print (10)\n",
    "# Valor 10 en binario\n",
    "print (\"Base binaria\")\n",
    "print (0b1010)\n",
    "# Valor 10 en octal\n",
    "print (\"Base octal\")\n",
    "print (0o12)\n",
    "# Valor 10 en hexadecimal\n",
    "print (\"Base hexadecimal\")\n",
    "print (0xa)"
   ]
  },
  {
   "cell_type": "code",
   "execution_count": 8,
   "id": "2c50d53b",
   "metadata": {},
   "outputs": [
    {
     "name": "stdout",
     "output_type": "stream",
     "text": [
      "123456789012345678901234567890123456789012345678901234567890\n",
      "<class 'int'>\n"
     ]
    }
   ],
   "source": [
    "# Entero con 60 dígitos\n",
    "variable_3 = 123456789012345678901234567890123456789012345678901234567890\n",
    "print (variable_3)\n",
    "print (type (variable_3))\n"
   ]
  },
  {
   "cell_type": "code",
   "execution_count": 9,
   "id": "dc7a63f4",
   "metadata": {},
   "outputs": [
    {
     "name": "stdout",
     "output_type": "stream",
     "text": [
      "0.5\n",
      "<class 'float'>\n"
     ]
    }
   ],
   "source": [
    "# Valor 0.5 Flotante\n",
    "print (0.5)\n",
    "print ( type (0.5) )"
   ]
  },
  {
   "cell_type": "code",
   "execution_count": 10,
   "id": "2dd6836c",
   "metadata": {},
   "outputs": [
    {
     "name": "stdout",
     "output_type": "stream",
     "text": [
      "0.100546\n",
      "<class 'float'>\n"
     ]
    }
   ],
   "source": [
    "# Variable 0.100546 Flotante\n",
    "variable_4 = 0.100546\n",
    "print (variable_4)\n",
    "print ( type (variable_4) )"
   ]
  },
  {
   "cell_type": "code",
   "execution_count": 11,
   "id": "433e16b1",
   "metadata": {},
   "outputs": [
    {
     "name": "stdout",
     "output_type": "stream",
     "text": [
      "1.0\n",
      "<class 'float'>\n"
     ]
    }
   ],
   "source": [
    "# Variable 1 Flotante\n",
    "variable_7 = float (1)\n",
    "print(variable_7)\n",
    "print ( type (variable_7) )"
   ]
  },
  {
   "cell_type": "code",
   "execution_count": 12,
   "id": "5fe96756",
   "metadata": {},
   "outputs": [
    {
     "name": "stdout",
     "output_type": "stream",
     "text": [
      "0.002\n",
      "<class 'float'>\n"
     ]
    }
   ],
   "source": [
    "# Valor 2.0e-3 Flotante\n",
    "variable_6 = 2.0e-3\n",
    "print(variable_6)\n",
    "print ( type (variable_6) )"
   ]
  },
  {
   "cell_type": "code",
   "execution_count": 13,
   "id": "826905b5",
   "metadata": {},
   "outputs": [
    {
     "name": "stdout",
     "output_type": "stream",
     "text": [
      "0.9999999999999999\n",
      "<class 'float'>\n"
     ]
    }
   ],
   "source": [
    "# Precisión de 17 decimales\n",
    "variable_5 = 0.9999999999999999\n",
    "print(variable_5)\n",
    "print ( type (variable_5) )"
   ]
  },
  {
   "cell_type": "code",
   "execution_count": 14,
   "id": "56010a09",
   "metadata": {},
   "outputs": [
    {
     "name": "stdout",
     "output_type": "stream",
     "text": [
      "Suma\n",
      "13\n",
      "Resta\n",
      "7\n",
      "Multiplicación\n",
      "30\n",
      "División\n",
      "3.3333333333333335\n",
      "Potencia\n",
      "1000\n",
      "Módulo o residuo\n",
      "1\n",
      "División entera\n",
      "3\n"
     ]
    }
   ],
   "source": [
    "# Operadores aritméticos\n",
    "a = 10\n",
    "b = 3\n",
    "# Suma\n",
    "print (\"Suma\")\n",
    "print (a + b)\n",
    "# Resta\n",
    "print (\"Resta\")\n",
    "print (a - b)\n",
    "# Multiplicación\n",
    "print (\"Multiplicación\")\n",
    "print (a * b)\n",
    "# División\n",
    "print (\"División\")\n",
    "print (a / b)\n",
    "# Potencia\n",
    "print (\"Potencia\")\n",
    "print (a ** b)\n",
    "# Módulo o residuo\n",
    "print (\"Módulo o residuo\")\n",
    "print (a % b)\n",
    "# División entera\n",
    "print (\"División entera\")\n",
    "print (a // b)"
   ]
  },
  {
   "cell_type": "code",
   "execution_count": 15,
   "id": "59d16220",
   "metadata": {},
   "outputs": [
    {
     "name": "stdout",
     "output_type": "stream",
     "text": [
      "6.0\n"
     ]
    }
   ],
   "source": [
    "# Operaciones más complejas\n",
    "minutos = 300\n",
    "tiempo_extra_segundos = 3600\n",
    "horas = (minutos + tiempo_extra_segundos / 60) / 60\n",
    "print (horas)"
   ]
  },
  {
   "cell_type": "code",
   "execution_count": 16,
   "id": "a6746a57",
   "metadata": {},
   "outputs": [
    {
     "name": "stdout",
     "output_type": "stream",
     "text": [
      "Operadores de comparación\n",
      "False\n",
      "False\n",
      "True\n",
      "True\n",
      "True\n",
      "False\n"
     ]
    }
   ],
   "source": [
    "print (\"Operadores de comparación\")\n",
    "comparar = 10\n",
    "print (comparar < 10)\n",
    "print (comparar > 10)\n",
    "print (comparar == 10)\n",
    "print (comparar <= 10)\n",
    "print (comparar >= 10)\n",
    "print (comparar != 10)"
   ]
  },
  {
   "cell_type": "code",
   "execution_count": 17,
   "id": "841dc763",
   "metadata": {},
   "outputs": [
    {
     "name": "stdout",
     "output_type": "stream",
     "text": [
      "Operadores de comparación con int - float\n",
      "False\n",
      "False\n",
      "True\n",
      "True\n",
      "True\n",
      "False\n"
     ]
    }
   ],
   "source": [
    "print (\"Operadores de comparación con int - float\")\n",
    "entero = 10\n",
    "flotante = 10.0\n",
    "print (entero < flotante)\n",
    "print (entero > flotante)\n",
    "print (entero == flotante)\n",
    "print (entero <= flotante)\n",
    "print (entero >= flotante)\n",
    "print (entero != flotante)"
   ]
  }
 ],
 "metadata": {
  "kernelspec": {
   "display_name": "Python 3",
   "language": "python",
   "name": "python3"
  },
  "language_info": {
   "codemirror_mode": {
    "name": "ipython",
    "version": 3
   },
   "file_extension": ".py",
   "mimetype": "text/x-python",
   "name": "python",
   "nbconvert_exporter": "python",
   "pygments_lexer": "ipython3",
   "version": "3.13.0"
  }
 },
 "nbformat": 4,
 "nbformat_minor": 5
}
